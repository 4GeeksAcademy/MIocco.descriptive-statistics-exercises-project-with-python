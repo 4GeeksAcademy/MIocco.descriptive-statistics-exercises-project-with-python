{
    "cells": [
        {
            "cell_type": "markdown",
            "id": "ac622319",
            "metadata": {},
            "source": [
                "# Descriptive statistics problems"
            ]
        },
        {
            "cell_type": "markdown",
            "id": "5e0ab0d5",
            "metadata": {},
            "source": [
                "### Exercise 1\n",
                "\n",
                "We will use NumPy to obtain information to describe statistically.\n",
                "\n",
                "- Generate an array of 100 elements following a normal distribution.\n",
                "- Generate an array of 100 elements following a chi-square distribution with 3 degrees of freedom.\n",
                "- Calculate the main metrics and statistical measures that best describe the two vectors."
            ]
        },
        {
            "cell_type": "code",
            "execution_count": 20,
            "id": "34720ab6",
            "metadata": {},
            "outputs": [
                {
                    "name": "stdout",
                    "output_type": "stream",
                    "text": [
                        "A continuacion encontramos los datos de tendencia central y de dispersion del array de distribucion normal. El promedio es igual a 0.005541406461337669, la moda es igual a ModeResult(mode=-2.97325857607994, count=1) y la mediana es igual a 0.018950680606366406. Los percentiles son iguals a 3.102561593052157 y los cuantiles 3.102561593052157. En cuanto a las medidas de dispersion, podemos ver el rango es de 6.075820169132097, la varianza 1.0491925308514274 y el desvio de datos estandard es de 1.024300996217141. Por ultimo, la simetria es igual a 0.08232746994686455 y la curtosis igual a -0.004268620755190966\n",
                        "DescribeResult(nobs=1000, minmax=(-2.97325857607994, 3.102561593052157), mean=0.005541406461337669, variance=1.0502427736250526, skewness=0.08232746994686455, kurtosis=-0.004268620755190966)\n",
                        "A continuacion encontramos los datos de tendencia central y de dispersion del array de distribucion chisquare. El promedio es igual a 2.9508315442540827, la moda es igual a ModeResult(mode=0.01901942526841172, count=1) y la mediana es igual a 2.258676585306899. Los percentiles son iguals a 18.988822667961195 y los cuantiles 18.988822667961195. En cuanto a las medidas de dispersion, podemos ver el rango es de 18.969803242692784, la varianza 6.3126353659597125 y el desvio de datos estandard es de 2.5124958439686447. Por ultimo, la simetria es igual a 1.7043524172230584 y la curtosis igual a 4.062653579391406\n"
                    ]
                }
            ],
            "source": [
                "# TODO\n",
                "import numpy as np\n",
                "import pandas as pd\n",
                "import statistics as stats\n",
                "from scipy import stats\n",
                "from scipy.stats import skew\n",
                "from scipy.stats import kurtosis\n",
                "\n",
                "normal_dist = np.random.normal(0, 1, 1000)\n",
                "\n",
                "mean_nd = np.mean(normal_dist)\n",
                "mode_nd = stats.mode(normal_dist)\n",
                "median_nd = np.median(normal_dist)\n",
                "percentile_nd = np.percentile(normal_dist,100)\n",
                "quantile_nd = np.quantile(normal_dist,1)\n",
                "range_nd = np.ptp(normal_dist)\n",
                "var_nd = np.var(normal_dist)\n",
                "std_nd = np.std(normal_dist)\n",
                "skewness = skew(normal_dist)\n",
                "kurt = kurtosis(normal_dist)\n",
                "\n",
                "print(f\"A continuacion encontramos los datos de tendencia central y de dispersion del array de distribucion normal. El promedio es igual a {mean_nd}, la moda es igual a {mode_nd} y la mediana es igual a {median_nd}. Los percentiles son iguals a {percentile_nd} y los cuantiles {quantile_nd}. En cuanto a las medidas de dispersion, podemos ver el rango es de {range_nd}, la varianza {var_nd} y el desvio de datos estandard es de {std_nd}. Por ultimo, la simetria es igual a {skewness} y la curtosis igual a {kurt}\")\n",
                "\n",
                "print(stats.describe(normal_dist))\n",
                "\n",
                "# ver como le hago para que no salga una linea infinita de texto\n",
                "\n",
                "\n",
                "chisq_dist = np.random.chisquare(3, 1000)\n",
                "\n",
                "mean_cd = np.mean(chisq_dist)\n",
                "mode_cd = stats.mode(chisq_dist)\n",
                "median_cd = np.median(chisq_dist)\n",
                "percentile_cd = np.percentile(chisq_dist,100)\n",
                "quantile_cd = np.quantile(chisq_dist,1)\n",
                "range_cd = np.ptp(chisq_dist)\n",
                "var_cd = np.var(chisq_dist)\n",
                "std_cd = np.std(chisq_dist)\n",
                "skewness_cd = skew(chisq_dist)\n",
                "kurt_cd = kurtosis(chisq_dist)\n",
                "\n",
                "print(f\"A continuacion encontramos los datos de tendencia central y de dispersion del array de distribucion chisquare. El promedio es igual a {mean_cd}, la moda es igual a {mode_cd} y la mediana es igual a {median_cd}. Los percentiles son iguals a {percentile_cd} y los cuantiles {quantile_cd}. En cuanto a las medidas de dispersion, podemos ver el rango es de {range_cd}, la varianza {var_cd} y el desvio de datos estandard es de {std_cd}. Por ultimo, la simetria es igual a {skewness_cd} y la curtosis igual a {kurt_cd}\")\n"
            ]
        },
        {
            "cell_type": "markdown",
            "id": "46c70c3d",
            "metadata": {},
            "source": [
                "### Exercise 2\n",
                "\n",
                "Write a Python program to calculate the standard deviation of the following data:\n",
                "\n",
                "```py\n",
                "data = [4, 2, 5, 8, 6]\n",
                "```"
            ]
        },
        {
            "cell_type": "code",
            "execution_count": 35,
            "id": "d590308e",
            "metadata": {},
            "outputs": [
                {
                    "name": "stdout",
                    "output_type": "stream",
                    "text": [
                        "5 25\n"
                    ]
                }
            ],
            "source": [
                "# TODO\n",
                "import pandas as pd\n",
                "import numpy as np\n",
                "import math\n",
                "#Paso 1: calcular la media.\n",
                "#Paso 2: calcular el cuadrado de la distancia a la media para cada dato.\n",
                "#Paso 3: sumar los valores que resultaron del paso 2.\n",
                "#Paso 4: dividir entre el número de datos.\n",
                "#Paso 5: sacar la raíz cuadrada.\n",
                "\n",
                "data = [4, 2, 5, 8, 6]\n",
                "cuenta = len(data)\n",
                "toSum = sum(data)\n",
                "mean = np.mean(data)\n",
                "\n",
                "square = 0\n",
                "\n",
                "def standard_dv:\n",
                "for i in data:\n",
                "    return i - mean ** 2\n",
                "    "
            ]
        },
        {
            "cell_type": "code",
            "execution_count": null,
            "id": "c1ef445c",
            "metadata": {},
            "outputs": [],
            "source": []
        }
    ],
    "metadata": {
        "interpreter": {
            "hash": "9248718ffe6ce6938b217e69dbcc175ea21f4c6b28a317e96c05334edae734bb"
        },
        "kernelspec": {
            "display_name": "Python 3.9.12 ('ML-BOOTCAMP')",
            "language": "python",
            "name": "python3"
        },
        "language_info": {
            "codemirror_mode": {
                "name": "ipython",
                "version": 3
            },
            "file_extension": ".py",
            "mimetype": "text/x-python",
            "name": "python",
            "nbconvert_exporter": "python",
            "pygments_lexer": "ipython3",
            "version": "3.11.4"
        }
    },
    "nbformat": 4,
    "nbformat_minor": 5
}
